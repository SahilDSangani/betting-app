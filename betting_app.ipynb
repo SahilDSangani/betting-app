{
 "cells": [
  {
   "cell_type": "code",
   "execution_count": 1,
   "id": "94033fb2",
   "metadata": {},
   "outputs": [],
   "source": [
    "import streamlit as st\n",
    "import sqlite3\n",
    "import random"
   ]
  },
  {
   "cell_type": "code",
   "execution_count": 2,
   "id": "77ec8a6f",
   "metadata": {},
   "outputs": [],
   "source": [
    "# Database setup\n",
    "\n",
    "def init_db():\n",
    "    # conn is sqlite3 connection object used for running queries\n",
    "    # connect() opens a connection to the sqlite file 'bets.db'\n",
    "    conn = sqlite3.connect(\"bets.db\")\n",
    "    conn.execute(\"PRAGMA foreign_keys = ON\")\n",
    "\n",
    "\n",
    "    # c is a cursor used to run SQL commands\n",
    "    c = conn.cursor()\n",
    "\n",
    "    # creates users table \n",
    "    c.execute('''CREATE TABLE IF NOT EXISTS users (\n",
    "                    id INTEGER PRIMARY KEY AUTOINCREMENT,\n",
    "                    username TEXT UNIQUE,\n",
    "                    balance INTEGER)''')\n",
    "    \n",
    "    # creates bets table\n",
    "    c.execute('''CREATE TABLE IF NOT EXISTS bets (\n",
    "                    id INTEGER PRIMARY KEY AUTOINCREMENT,\n",
    "                    user_id INTEGER,\n",
    "                    amount INTEGER,\n",
    "                    team TEXT,\n",
    "                    outcome TEXT,\n",
    "                    timestamp DATETIME DEFAULT CURRENT_TIMESTAMP,\n",
    "                    FOREIGN KEY (user_id) REFERENCES users (id))''')\n",
    "    \n",
    "    # writes the table creation changes to disk\n",
    "    conn.commit()\n",
    "\n",
    "    # returns connection object so the rest of the app can run queries on the same DB file\n",
    "    return conn\n",
    "\n",
    "def get_user(conn, username):\n",
    "    c = conn.cursor()\n",
    "    c.execute(\"SELECT * FROM users WHERE username=?\", (username,))\n",
    "    return c.fetchone()\n",
    "\n",
    "def create_user(conn, username, balance=100):\n",
    "    c = conn.cursor()\n",
    "    c.execute(\"INSERT OR IGNORE INTO users (username, balance) VALUES (?, ?)\", (username, balance))\n",
    "    conn.commit()\n",
    "\n",
    "def update_balance(conn, user_id, new_balance):\n",
    "    c = conn.cursor()\n",
    "    c.execute(\"UPDATE users SET balance = ? WHERE id = ?\", (new_balance, user_id))\n",
    "    conn.commit()\n",
    "\n",
    "def add_bet(conn, user_id, amount, team, outcome):\n",
    "    c = conn.cursor()\n",
    "    c.execute(\"INSERT INTO bets (user_id, amount, team, outcome) VALUES (?, ?, ?, ?)\", \n",
    "              (user_id, amount, team, outcome))\n",
    "    conn.commit()\n",
    "\n",
    "def get_bet_history(conn, user_id):\n",
    "    c = conn.cursor()\n",
    "    c.execute(\"SELECT amount, team, outcome, timestamp FROM bets WHERE user_id = ?\", (user_id,))\n",
    "    return c.fetchall()"
   ]
  },
  {
   "cell_type": "code",
   "execution_count": 3,
   "id": "5c57a2ef",
   "metadata": {},
   "outputs": [],
   "source": [
    "conn = init_db()"
   ]
  },
  {
   "cell_type": "code",
   "execution_count": null,
   "id": "a635ace2",
   "metadata": {},
   "outputs": [
    {
     "data": {
      "text/plain": [
       "<sqlite3.Connection at 0x10e1f9e40>"
      ]
     },
     "execution_count": 4,
     "metadata": {},
     "output_type": "execute_result"
    }
   ],
   "source": []
  },
  {
   "cell_type": "code",
   "execution_count": null,
   "id": "fe74bb9c",
   "metadata": {},
   "outputs": [],
   "source": []
  }
 ],
 "metadata": {
  "kernelspec": {
   "display_name": "Python 3",
   "language": "python",
   "name": "python3"
  },
  "language_info": {
   "codemirror_mode": {
    "name": "ipython",
    "version": 3
   },
   "file_extension": ".py",
   "mimetype": "text/x-python",
   "name": "python",
   "nbconvert_exporter": "python",
   "pygments_lexer": "ipython3",
   "version": "3.13.2"
  }
 },
 "nbformat": 4,
 "nbformat_minor": 5
}
